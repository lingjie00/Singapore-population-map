{
 "cells": [
  {
   "cell_type": "markdown",
   "metadata": {},
   "source": [
    "# Context"
   ]
  },
  {
   "cell_type": "markdown",
   "metadata": {},
   "source": [
    "Recently population growth is on trend again. I was curious how have our population figures change over the years. To quench my curiosity, I plot the Singapore population data by different planning areas in Singapore.\n",
    "\n",
    "I used Urban Redevelopment Authority (URA)'s planning area boundary to divide Singapore into different regions.\\\n",
    "I used two different datasets from data.gov.sg and singstat. One contains HDB population data while the other contains all the Singapore resident figures.\n",
    "\n",
    "I used plotly choropleth maps to have a visual and interactive understanding of the changes in population."
   ]
  },
  {
   "cell_type": "markdown",
   "metadata": {},
   "source": [
    "## Data source"
   ]
  },
  {
   "cell_type": "markdown",
   "metadata": {},
   "source": [
    "HDB population data: https://data.gov.sg/dataset/estimated-resident-population-living-in-hdb-flats \\\n",
    "Singapore Residents by Planning Area: https://www.singstat.gov.sg/find-data/search-by-theme/population/geographic-distribution/latest-data \\\n",
    "planning area: https://data.gov.sg/dataset/master-plan-2019-planning-area-boundary-no-sea"
   ]
  },
  {
   "cell_type": "markdown",
   "metadata": {},
   "source": [
    "# Library"
   ]
  },
  {
   "cell_type": "code",
   "execution_count": 25,
   "metadata": {
    "ExecuteTime": {
     "end_time": "2020-07-02T12:51:56.399824Z",
     "start_time": "2020-07-02T12:51:56.385154Z"
    }
   },
   "outputs": [],
   "source": [
    "#geo data\n",
    "import geopandas as gpd\n",
    "gpd.io.file.fiona.drvsupport.supported_drivers['KML'] = 'rw'\n",
    "\n",
    "#standard data\n",
    "import pandas as pd\n",
    "import numpy as np\n",
    "import json\n",
    "\n",
    "#plotly\n",
    "import plotly.express as px\n",
    "from plotly.subplots import make_subplots"
   ]
  },
  {
   "cell_type": "markdown",
   "metadata": {},
   "source": [
    "# Load map data"
   ]
  },
  {
   "cell_type": "code",
   "execution_count": 2,
   "metadata": {
    "ExecuteTime": {
     "end_time": "2020-07-02T12:42:04.023846Z",
     "start_time": "2020-07-02T12:42:03.902596Z"
    }
   },
   "outputs": [
    {
     "name": "stdout",
     "output_type": "stream",
     "text": [
      "Notes_respopagesextod2011to2019.csv\r\n",
      "estimated-resident-population-in-hdb-flats-by-town.csv\r\n",
      "metadata-master-plan-2019-planning-area-boundary-no-sea.txt\r\n",
      "planning-boundary-area.kml\r\n",
      "respopagesextod2011to2019.csv\r\n"
     ]
    }
   ],
   "source": [
    "ls master-plan-2019-planning-area-boundary-no-sea/"
   ]
  },
  {
   "cell_type": "code",
   "execution_count": 3,
   "metadata": {
    "ExecuteTime": {
     "end_time": "2020-07-02T12:42:04.030928Z",
     "start_time": "2020-07-02T12:42:04.027870Z"
    }
   },
   "outputs": [],
   "source": [
    "PATH = 'master-plan-2019-planning-area-boundary-no-sea/'"
   ]
  },
  {
   "cell_type": "code",
   "execution_count": 4,
   "metadata": {
    "ExecuteTime": {
     "end_time": "2020-07-02T12:42:04.094332Z",
     "start_time": "2020-07-02T12:42:04.033502Z"
    }
   },
   "outputs": [],
   "source": [
    "sg_map = gpd.read_file(PATH+'planning-boundary-area.kml')"
   ]
  },
  {
   "cell_type": "code",
   "execution_count": 5,
   "metadata": {
    "ExecuteTime": {
     "end_time": "2020-07-02T12:42:04.099631Z",
     "start_time": "2020-07-02T12:42:04.096000Z"
    }
   },
   "outputs": [],
   "source": [
    "sg_map['Name'] = sg_map['Description'].str.extract('(?:.*?<td>(.*?)</td>)')"
   ]
  },
  {
   "cell_type": "code",
   "execution_count": 6,
   "metadata": {
    "ExecuteTime": {
     "end_time": "2020-07-02T12:42:04.105020Z",
     "start_time": "2020-07-02T12:42:04.101274Z"
    }
   },
   "outputs": [],
   "source": [
    "sg_map = sg_map.drop('Description', axis=1)"
   ]
  },
  {
   "cell_type": "code",
   "execution_count": 7,
   "metadata": {
    "ExecuteTime": {
     "end_time": "2020-07-02T12:42:04.572577Z",
     "start_time": "2020-07-02T12:42:04.106494Z"
    }
   },
   "outputs": [
    {
     "data": {
      "image/png": "[encoded data removed]",
      "text/plain": [
       "<Figure size 432x288 with 1 Axes>"
      ]
     },
     "metadata": {
      "needs_background": "light"
     },
     "output_type": "display_data"
    }
   ],
   "source": [
    "sg_map.plot();"
   ]
  },
  {
   "cell_type": "code",
   "execution_count": 8,
   "metadata": {
    "ExecuteTime": {
     "end_time": "2020-07-02T12:42:04.598851Z",
     "start_time": "2020-07-02T12:42:04.577033Z"
    }
   },
   "outputs": [
    {
     "data": {
      "text/html": [
       "<div>\n",
       "<style scoped>\n",
       "    .dataframe tbody tr th:only-of-type {\n",
       "        vertical-align: middle;\n",
       "    }\n",
       "\n",
       "    .dataframe tbody tr th {\n",
       "        vertical-align: top;\n",
       "    }\n",
       "\n",
       "    .dataframe thead th {\n",
       "        text-align: right;\n",
       "    }\n",
       "</style>\n",
       "<table border=\"1\" class=\"dataframe\">\n",
       "  <thead>\n",
       "    <tr style=\"text-align: right;\">\n",
       "      <th></th>\n",
       "      <th>Name</th>\n",
       "      <th>geometry</th>\n",
       "    </tr>\n",
       "  </thead>\n",
       "  <tbody>\n",
       "    <tr>\n",
       "      <th>0</th>\n",
       "      <td>BUKIT MERAH</td>\n",
       "      <td>POLYGON Z ((103.81740 1.29433 0.00000, 103.817...</td>\n",
       "    </tr>\n",
       "    <tr>\n",
       "      <th>1</th>\n",
       "      <td>BUKIT PANJANG</td>\n",
       "      <td>POLYGON Z ((103.77445 1.39029 0.00000, 103.774...</td>\n",
       "    </tr>\n",
       "    <tr>\n",
       "      <th>2</th>\n",
       "      <td>BUKIT TIMAH</td>\n",
       "      <td>POLYGON Z ((103.79766 1.34813 0.00000, 103.798...</td>\n",
       "    </tr>\n",
       "    <tr>\n",
       "      <th>3</th>\n",
       "      <td>CENTRAL WATER CATCHMENT</td>\n",
       "      <td>POLYGON Z ((103.80578 1.41436 0.00000, 103.805...</td>\n",
       "    </tr>\n",
       "    <tr>\n",
       "      <th>4</th>\n",
       "      <td>CHANGI</td>\n",
       "      <td>POLYGON Z ((103.98693 1.39794 0.00000, 103.987...</td>\n",
       "    </tr>\n",
       "  </tbody>\n",
       "</table>\n",
       "</div>"
      ],
      "text/plain": [
       "                      Name                                           geometry\n",
       "0              BUKIT MERAH  POLYGON Z ((103.81740 1.29433 0.00000, 103.817...\n",
       "1            BUKIT PANJANG  POLYGON Z ((103.77445 1.39029 0.00000, 103.774...\n",
       "2              BUKIT TIMAH  POLYGON Z ((103.79766 1.34813 0.00000, 103.798...\n",
       "3  CENTRAL WATER CATCHMENT  POLYGON Z ((103.80578 1.41436 0.00000, 103.805...\n",
       "4                   CHANGI  POLYGON Z ((103.98693 1.39794 0.00000, 103.987..."
      ]
     },
     "execution_count": 8,
     "metadata": {},
     "output_type": "execute_result"
    }
   ],
   "source": [
    "sg_map.head()"
   ]
  },
  {
   "cell_type": "markdown",
   "metadata": {},
   "source": [
    "## Convert to geojson format"
   ]
  },
  {
   "cell_type": "code",
   "execution_count": 9,
   "metadata": {
    "ExecuteTime": {
     "end_time": "2020-07-02T12:42:04.660100Z",
     "start_time": "2020-07-02T12:42:04.601599Z"
    }
   },
   "outputs": [],
   "source": [
    "sg_map_json = json.loads(sg_map.to_json())"
   ]
  },
  {
   "cell_type": "markdown",
   "metadata": {},
   "source": [
    "# HDB population"
   ]
  },
  {
   "cell_type": "code",
   "execution_count": 10,
   "metadata": {
    "ExecuteTime": {
     "end_time": "2020-07-02T12:42:04.667973Z",
     "start_time": "2020-07-02T12:42:04.662193Z"
    }
   },
   "outputs": [],
   "source": [
    "HDB_pop = pd.read_csv(PATH+'estimated-resident-population-in-hdb-flats-by-town.csv')"
   ]
  },
  {
   "cell_type": "code",
   "execution_count": 11,
   "metadata": {
    "ExecuteTime": {
     "end_time": "2020-07-02T12:42:04.673350Z",
     "start_time": "2020-07-02T12:42:04.670211Z"
    }
   },
   "outputs": [],
   "source": [
    "HDB_pop['town_or_estate'] = HDB_pop['town_or_estate'].str.upper()"
   ]
  },
  {
   "cell_type": "code",
   "execution_count": 12,
   "metadata": {
    "ExecuteTime": {
     "end_time": "2020-07-02T12:42:04.678365Z",
     "start_time": "2020-07-02T12:42:04.675024Z"
    }
   },
   "outputs": [],
   "source": [
    "HDB_pop = HDB_pop[HDB_pop['town_or_estate']!='TOTAL']"
   ]
  },
  {
   "cell_type": "code",
   "execution_count": 13,
   "metadata": {
    "ExecuteTime": {
     "end_time": "2020-07-02T12:42:04.683303Z",
     "start_time": "2020-07-02T12:42:04.680088Z"
    }
   },
   "outputs": [],
   "source": [
    "HDB_pop = HDB_pop.assign(town_or_estate = np.where(HDB_pop['town_or_estate']=='KALLANG/WHAMPOA', \n",
    "                                                            'KALLANG', HDB_pop['town_or_estate']))"
   ]
  },
  {
   "cell_type": "code",
   "execution_count": 14,
   "metadata": {
    "ExecuteTime": {
     "end_time": "2020-07-02T12:42:04.688550Z",
     "start_time": "2020-07-02T12:42:04.685067Z"
    }
   },
   "outputs": [],
   "source": [
    "HDB_pop = HDB_pop.assign(town_or_estate = np.where(HDB_pop['town_or_estate']=='CENTRAL AREA', \n",
    "                                                            'DOWNTOWN CORE', HDB_pop['town_or_estate']))"
   ]
  },
  {
   "cell_type": "code",
   "execution_count": 15,
   "metadata": {
    "ExecuteTime": {
     "end_time": "2020-07-02T12:42:04.697987Z",
     "start_time": "2020-07-02T12:42:04.690367Z"
    }
   },
   "outputs": [
    {
     "data": {
      "text/html": [
       "<div>\n",
       "<style scoped>\n",
       "    .dataframe tbody tr th:only-of-type {\n",
       "        vertical-align: middle;\n",
       "    }\n",
       "\n",
       "    .dataframe tbody tr th {\n",
       "        vertical-align: top;\n",
       "    }\n",
       "\n",
       "    .dataframe thead th {\n",
       "        text-align: right;\n",
       "    }\n",
       "</style>\n",
       "<table border=\"1\" class=\"dataframe\">\n",
       "  <thead>\n",
       "    <tr style=\"text-align: right;\">\n",
       "      <th></th>\n",
       "      <th>financial_year</th>\n",
       "      <th>town_or_estate</th>\n",
       "      <th>population</th>\n",
       "    </tr>\n",
       "  </thead>\n",
       "  <tbody>\n",
       "    <tr>\n",
       "      <th>0</th>\n",
       "      <td>2008</td>\n",
       "      <td>ANG MO KIO</td>\n",
       "      <td>148200</td>\n",
       "    </tr>\n",
       "    <tr>\n",
       "      <th>1</th>\n",
       "      <td>2008</td>\n",
       "      <td>BEDOK</td>\n",
       "      <td>197900</td>\n",
       "    </tr>\n",
       "    <tr>\n",
       "      <th>2</th>\n",
       "      <td>2008</td>\n",
       "      <td>BISHAN</td>\n",
       "      <td>66500</td>\n",
       "    </tr>\n",
       "    <tr>\n",
       "      <th>3</th>\n",
       "      <td>2008</td>\n",
       "      <td>BUKIT BATOK</td>\n",
       "      <td>109100</td>\n",
       "    </tr>\n",
       "    <tr>\n",
       "      <th>4</th>\n",
       "      <td>2008</td>\n",
       "      <td>BUKIT MERAH</td>\n",
       "      <td>140600</td>\n",
       "    </tr>\n",
       "  </tbody>\n",
       "</table>\n",
       "</div>"
      ],
      "text/plain": [
       "   financial_year town_or_estate  population\n",
       "0            2008     ANG MO KIO      148200\n",
       "1            2008          BEDOK      197900\n",
       "2            2008         BISHAN       66500\n",
       "3            2008    BUKIT BATOK      109100\n",
       "4            2008    BUKIT MERAH      140600"
      ]
     },
     "execution_count": 15,
     "metadata": {},
     "output_type": "execute_result"
    }
   ],
   "source": [
    "HDB_pop.head()"
   ]
  },
  {
   "cell_type": "code",
   "execution_count": 16,
   "metadata": {
    "ExecuteTime": {
     "end_time": "2020-07-02T12:42:07.492458Z",
     "start_time": "2020-07-02T12:42:04.699775Z"
    }
   },
   "outputs": [],
   "source": [
    "HDB_fig = px.choropleth_mapbox(HDB_pop, geojson=sg_map_json, locations='town_or_estate', color='population', \n",
    "                    featureidkey='properties.Name', animation_frame='financial_year',\n",
    "                           mapbox_style='carto-positron',\n",
    "                          center = dict(lon = 103.8198,lat = 1.3521), opacity=0.5,\n",
    "                          zoom=10, color_continuous_scale='Oranges')"
   ]
  },
  {
   "cell_type": "code",
   "execution_count": 17,
   "metadata": {
    "ExecuteTime": {
     "end_time": "2020-07-02T12:42:09.463857Z",
     "start_time": "2020-07-02T12:42:07.493868Z"
    }
   },
   "outputs": [],
   "source": [
    "HDB_fig.write_html('output/HDB_fig.html')"
   ]
  },
  {
   "cell_type": "code",
   "execution_count": 18,
   "metadata": {
    "ExecuteTime": {
     "end_time": "2020-07-02T12:42:09.468305Z",
     "start_time": "2020-07-02T12:42:09.465785Z"
    }
   },
   "outputs": [],
   "source": [
    "# fig.update_geos(fitbounds=\"locations\", visible=False)\n",
    "# fig.update_layout(margin={\"r\":0,\"t\":0,\"l\":0,\"b\":0})\n",
    "# fig.show()"
   ]
  },
  {
   "cell_type": "markdown",
   "metadata": {},
   "source": [
    "# General population"
   ]
  },
  {
   "cell_type": "code",
   "execution_count": 20,
   "metadata": {
    "ExecuteTime": {
     "end_time": "2020-07-02T12:42:21.475140Z",
     "start_time": "2020-07-02T12:42:20.876135Z"
    }
   },
   "outputs": [],
   "source": [
    "sg_pop = pd.read_csv(PATH+'/respopagesextod2011to2019.csv')"
   ]
  },
  {
   "cell_type": "code",
   "execution_count": 21,
   "metadata": {
    "ExecuteTime": {
     "end_time": "2020-07-02T12:42:22.855233Z",
     "start_time": "2020-07-02T12:42:22.619399Z"
    }
   },
   "outputs": [],
   "source": [
    "sg_pop['PA'] = sg_pop['PA'].str.upper()"
   ]
  },
  {
   "cell_type": "code",
   "execution_count": 22,
   "metadata": {
    "ExecuteTime": {
     "end_time": "2020-07-02T12:42:22.966401Z",
     "start_time": "2020-07-02T12:42:22.955618Z"
    }
   },
   "outputs": [
    {
     "data": {
      "text/html": [
       "<div>\n",
       "<style scoped>\n",
       "    .dataframe tbody tr th:only-of-type {\n",
       "        vertical-align: middle;\n",
       "    }\n",
       "\n",
       "    .dataframe tbody tr th {\n",
       "        vertical-align: top;\n",
       "    }\n",
       "\n",
       "    .dataframe thead th {\n",
       "        text-align: right;\n",
       "    }\n",
       "</style>\n",
       "<table border=\"1\" class=\"dataframe\">\n",
       "  <thead>\n",
       "    <tr style=\"text-align: right;\">\n",
       "      <th></th>\n",
       "      <th>PA</th>\n",
       "      <th>SZ</th>\n",
       "      <th>AG</th>\n",
       "      <th>Sex</th>\n",
       "      <th>TOD</th>\n",
       "      <th>Pop</th>\n",
       "      <th>Time</th>\n",
       "    </tr>\n",
       "  </thead>\n",
       "  <tbody>\n",
       "    <tr>\n",
       "      <th>0</th>\n",
       "      <td>ANG MO KIO</td>\n",
       "      <td>Ang Mo Kio Town Centre</td>\n",
       "      <td>0_to_4</td>\n",
       "      <td>Males</td>\n",
       "      <td>HDB 1- and 2-Room Flats</td>\n",
       "      <td>0</td>\n",
       "      <td>2011</td>\n",
       "    </tr>\n",
       "    <tr>\n",
       "      <th>1</th>\n",
       "      <td>ANG MO KIO</td>\n",
       "      <td>Ang Mo Kio Town Centre</td>\n",
       "      <td>0_to_4</td>\n",
       "      <td>Males</td>\n",
       "      <td>HDB 3-Room Flats</td>\n",
       "      <td>10</td>\n",
       "      <td>2011</td>\n",
       "    </tr>\n",
       "    <tr>\n",
       "      <th>2</th>\n",
       "      <td>ANG MO KIO</td>\n",
       "      <td>Ang Mo Kio Town Centre</td>\n",
       "      <td>0_to_4</td>\n",
       "      <td>Males</td>\n",
       "      <td>HDB 4-Room Flats</td>\n",
       "      <td>30</td>\n",
       "      <td>2011</td>\n",
       "    </tr>\n",
       "    <tr>\n",
       "      <th>3</th>\n",
       "      <td>ANG MO KIO</td>\n",
       "      <td>Ang Mo Kio Town Centre</td>\n",
       "      <td>0_to_4</td>\n",
       "      <td>Males</td>\n",
       "      <td>HDB 5-Room and Executive Flats</td>\n",
       "      <td>50</td>\n",
       "      <td>2011</td>\n",
       "    </tr>\n",
       "    <tr>\n",
       "      <th>4</th>\n",
       "      <td>ANG MO KIO</td>\n",
       "      <td>Ang Mo Kio Town Centre</td>\n",
       "      <td>0_to_4</td>\n",
       "      <td>Males</td>\n",
       "      <td>HUDC Flats (excluding those privatised)</td>\n",
       "      <td>0</td>\n",
       "      <td>2011</td>\n",
       "    </tr>\n",
       "  </tbody>\n",
       "</table>\n",
       "</div>"
      ],
      "text/plain": [
       "           PA                      SZ      AG    Sex  \\\n",
       "0  ANG MO KIO  Ang Mo Kio Town Centre  0_to_4  Males   \n",
       "1  ANG MO KIO  Ang Mo Kio Town Centre  0_to_4  Males   \n",
       "2  ANG MO KIO  Ang Mo Kio Town Centre  0_to_4  Males   \n",
       "3  ANG MO KIO  Ang Mo Kio Town Centre  0_to_4  Males   \n",
       "4  ANG MO KIO  Ang Mo Kio Town Centre  0_to_4  Males   \n",
       "\n",
       "                                       TOD  Pop  Time  \n",
       "0                  HDB 1- and 2-Room Flats    0  2011  \n",
       "1                         HDB 3-Room Flats   10  2011  \n",
       "2                         HDB 4-Room Flats   30  2011  \n",
       "3           HDB 5-Room and Executive Flats   50  2011  \n",
       "4  HUDC Flats (excluding those privatised)    0  2011  "
      ]
     },
     "execution_count": 22,
     "metadata": {},
     "output_type": "execute_result"
    }
   ],
   "source": [
    "sg_pop.head()"
   ]
  },
  {
   "cell_type": "code",
   "execution_count": 23,
   "metadata": {
    "ExecuteTime": {
     "end_time": "2020-07-02T12:42:25.937625Z",
     "start_time": "2020-07-02T12:42:23.923755Z"
    }
   },
   "outputs": [],
   "source": [
    "pop_fig = px.choropleth_mapbox(sg_pop[['Time','PA','Pop']].groupby(['PA','Time']).sum().reset_index(), \n",
    "                               geojson=sg_map_json, locations='PA', color='Pop', \n",
    "                    featureidkey='properties.Name', animation_frame='Time',\n",
    "                           mapbox_style='carto-positron',\n",
    "                          center = dict(lon = 103.8198,lat = 1.3521), opacity=0.5,\n",
    "                          zoom=10, color_continuous_scale='Oranges')"
   ]
  },
  {
   "cell_type": "code",
   "execution_count": 24,
   "metadata": {
    "ExecuteTime": {
     "end_time": "2020-07-02T12:42:27.537903Z",
     "start_time": "2020-07-02T12:42:25.940653Z"
    }
   },
   "outputs": [],
   "source": [
    "pop_fig.write_html('output/pop_fig.html')"
   ]
  },
  {
   "cell_type": "markdown",
   "metadata": {},
   "source": [
    "# Subplots"
   ]
  },
  {
   "cell_type": "code",
   "execution_count": 26,
   "metadata": {
    "ExecuteTime": {
     "end_time": "2020-07-02T12:52:14.385910Z",
     "start_time": "2020-07-02T12:52:14.358930Z"
    }
   },
   "outputs": [],
   "source": [
    "fig = make_subplots(rows=2, cols=1)"
   ]
  },
  {
   "cell_type": "code",
   "execution_count": null,
   "metadata": {
    "ExecuteTime": {
     "start_time": "2020-07-02T12:52:59.349Z"
    }
   },
   "outputs": [],
   "source": [
    "fig.add_trace(HDB_fig, row=1, col=1)"
   ]
  },
  {
   "cell_type": "code",
   "execution_count": null,
   "metadata": {
    "ExecuteTime": {
     "start_time": "2020-07-02T12:53:10.353Z"
    }
   },
   "outputs": [],
   "source": [
    "fig.add_trace(pop_fig, row=2, col=1)"
   ]
  },
  {
   "cell_type": "code",
   "execution_count": 28,
   "metadata": {
    "ExecuteTime": {
     "end_time": "2020-07-02T12:52:35.316718Z",
     "start_time": "2020-07-02T12:52:35.312529Z"
    }
   },
   "outputs": [],
   "source": [
    "#fig.update_layout(height=600, width=800)"
   ]
  },
  {
   "cell_type": "code",
   "execution_count": null,
   "metadata": {
    "ExecuteTime": {
     "start_time": "2020-07-02T12:53:32.104Z"
    }
   },
   "outputs": [],
   "source": [
    "fig.write_html('output/fig.html')"
   ]
  },
  {
   "cell_type": "code",
   "execution_count": null,
   "metadata": {},
   "outputs": [],
   "source": []
  }
 ],
 "metadata": {
  "kernelspec": {
   "display_name": "Python 3",
   "language": "python",
   "name": "python3"
  },
  "language_info": {
   "codemirror_mode": {
    "name": "ipython",
    "version": 3
   },
   "file_extension": ".py",
   "mimetype": "text/x-python",
   "name": "python",
   "nbconvert_exporter": "python",
   "pygments_lexer": "ipython3",
   "version": "3.7.7"
  },
  "latex_envs": {
   "LaTeX_envs_menu_present": true,
   "autoclose": false,
   "autocomplete": true,
   "bibliofile": "biblio.bib",
   "cite_by": "apalike",
   "current_citInitial": 1,
   "eqLabelWithNumbers": true,
   "eqNumInitial": 1,
   "hotkeys": {
    "equation": "Ctrl-E",
    "itemize": "Ctrl-I"
   },
   "labels_anchors": false,
   "latex_user_defs": false,
   "report_style_numbering": false,
   "user_envs_cfg": false
  },
  "toc": {
   "base_numbering": 1,
   "nav_menu": {},
   "number_sections": true,
   "sideBar": true,
   "skip_h1_title": false,
   "title_cell": "Table of Contents",
   "title_sidebar": "Contents",
   "toc_cell": false,
   "toc_position": {},
   "toc_section_display": true,
   "toc_window_display": true
  }
 },
 "nbformat": 4,
 "nbformat_minor": 4
}
