{
 "cells": [
  {
   "cell_type": "markdown",
   "metadata": {
    "toc": true
   },
   "source": [
    "<h1>Table of Contents<span class=\"tocSkip\"></span></h1>\n",
    "<div class=\"toc\"><ul class=\"toc-item\"><li><span><a href=\"#Context\" data-toc-modified-id=\"Context-1\"><span class=\"toc-item-num\">1&nbsp;&nbsp;</span>Context</a></span><ul class=\"toc-item\"><li><span><a href=\"#Data-source\" data-toc-modified-id=\"Data-source-1.1\"><span class=\"toc-item-num\">1.1&nbsp;&nbsp;</span>Data source</a></span></li></ul></li><li><span><a href=\"#Library\" data-toc-modified-id=\"Library-2\"><span class=\"toc-item-num\">2&nbsp;&nbsp;</span>Library</a></span></li><li><span><a href=\"#Load-map-data\" data-toc-modified-id=\"Load-map-data-3\"><span class=\"toc-item-num\">3&nbsp;&nbsp;</span>Load map data</a></span><ul class=\"toc-item\"><li><span><a href=\"#Convert-to-geojson-format\" data-toc-modified-id=\"Convert-to-geojson-format-3.1\"><span class=\"toc-item-num\">3.1&nbsp;&nbsp;</span>Convert to geojson format</a></span></li></ul></li><li><span><a href=\"#HDB-population\" data-toc-modified-id=\"HDB-population-4\"><span class=\"toc-item-num\">4&nbsp;&nbsp;</span>HDB population</a></span><ul class=\"toc-item\"><li><span><a href=\"#Data-cleaning\" data-toc-modified-id=\"Data-cleaning-4.1\"><span class=\"toc-item-num\">4.1&nbsp;&nbsp;</span>Data cleaning</a></span></li><li><span><a href=\"#Visualise-data\" data-toc-modified-id=\"Visualise-data-4.2\"><span class=\"toc-item-num\">4.2&nbsp;&nbsp;</span>Visualise data</a></span></li><li><span><a href=\"#Map-Plotting\" data-toc-modified-id=\"Map-Plotting-4.3\"><span class=\"toc-item-num\">4.3&nbsp;&nbsp;</span>Map Plotting</a></span></li></ul></li><li><span><a href=\"#General-Singapore-population\" data-toc-modified-id=\"General-Singapore-population-5\"><span class=\"toc-item-num\">5&nbsp;&nbsp;</span>General Singapore population</a></span><ul class=\"toc-item\"><li><span><a href=\"#Data-cleaning\" data-toc-modified-id=\"Data-cleaning-5.1\"><span class=\"toc-item-num\">5.1&nbsp;&nbsp;</span>Data cleaning</a></span></li><li><span><a href=\"#Visualise-data\" data-toc-modified-id=\"Visualise-data-5.2\"><span class=\"toc-item-num\">5.2&nbsp;&nbsp;</span>Visualise data</a></span></li><li><span><a href=\"#Map-Plotting\" data-toc-modified-id=\"Map-Plotting-5.3\"><span class=\"toc-item-num\">5.3&nbsp;&nbsp;</span>Map Plotting</a></span></li></ul></li></ul></div>"
   ]
  },
  {
   "cell_type": "markdown",
   "metadata": {},
   "source": [
    "# Context"
   ]
  },
  {
   "cell_type": "markdown",
   "metadata": {},
   "source": [
    "Recently population growth is on trend again. I was curious how have our population figures change over the years. To quench my curiosity, I plot the Singapore population data by different planning areas in Singapore.\n",
    "\n",
    "I used Urban Redevelopment Authority (URA)'s planning area boundary to divide Singapore into different regions.\\\n",
    "I used two different datasets from data.gov.sg and singstat. One contains HDB population data while the other contains all the Singapore resident figures.\n",
    "\n",
    "I used plotly choropleth maps to have a visual and interactive understanding of the changes in population."
   ]
  },
  {
   "cell_type": "markdown",
   "metadata": {},
   "source": [
    "## Data source"
   ]
  },
  {
   "cell_type": "markdown",
   "metadata": {},
   "source": [
    "HDB population data: https://data.gov.sg/dataset/estimated-resident-population-living-in-hdb-flats \\\n",
    "Singapore Residents by Planning Area: https://www.singstat.gov.sg/find-data/search-by-theme/population/geographic-distribution/latest-data \\\n",
    "planning area: https://data.gov.sg/dataset/master-plan-2019-planning-area-boundary-no-sea"
   ]
  },
  {
   "cell_type": "markdown",
   "metadata": {},
   "source": [
    "# Library"
   ]
  },
  {
   "cell_type": "code",
   "execution_count": 1,
   "metadata": {
    "ExecuteTime": {
     "end_time": "2020-07-02T14:03:58.585186Z",
     "start_time": "2020-07-02T14:03:57.721516Z"
    }
   },
   "outputs": [],
   "source": [
    "#geo data\n",
    "import geopandas as gpd\n",
    "gpd.io.file.fiona.drvsupport.supported_drivers['KML'] = 'rw'\n",
    "\n",
    "#standard data\n",
    "import pandas as pd\n",
    "import numpy as np\n",
    "import json\n",
    "\n",
    "#plotting\n",
    "import plotly.express as px\n",
    "import matplotlib.pyplot as plt"
   ]
  },
  {
   "cell_type": "code",
   "execution_count": 2,
   "metadata": {
    "ExecuteTime": {
     "end_time": "2020-07-02T14:03:58.589059Z",
     "start_time": "2020-07-02T14:03:58.586950Z"
    }
   },
   "outputs": [],
   "source": [
    "PATH = 'master-plan-2019-planning-area-boundary-no-sea/'"
   ]
  },
  {
   "cell_type": "markdown",
   "metadata": {},
   "source": [
    "# Load map data"
   ]
  },
  {
   "cell_type": "markdown",
   "metadata": {},
   "source": [
    "We will be using the Keyhole Markup Language (KML) file from URA.\n",
    "\n",
    "Here is the description taken from Data.gov.sg\n",
    "\n",
    "```\n",
    "Indicative polygon of planning area boundary.\n",
    "\n",
    "To facilitate urban planning, the Urban Redevelopment Authority (URA) divides Singapore into regions, planning areas and subzones.\n",
    "\n",
    "The Planning Regions are divided into smaller Planning Areas. Each Planning Area have a population of about 150,000 and served by a town centre and several neighbourhood commercial/shopping centres.\n",
    "```\n",
    "\n",
    "Here is a description of what KML files are\n",
    "\n",
    "```\n",
    "Keyhole Markup Language is an XML notation for expressing geographic annotation and visualization within two-dimensional maps and three-dimensional Earth browsers. KML was developed for use with Google Earth, which was originally named Keyhole Earth Viewer. - wikipedia\n",
    "```\n",
    "\n",
    "Another population data format to store map data is GEOJSON\n",
    "```\n",
    "GeoJSON is an open standard format designed for representing simple geographical features, along with their non-spatial attributes. It is based on the JavaScript Object Notation. The features include points, line strings, polygons, and multi-part collections of these types. - wikipedia\n",
    "```\n",
    "\n",
    "KML and GEOJSON files are commonly used in spatial analysis. However, plotly only supports GEOJSON files. We will later convert the KML files into GEOJSON format."
   ]
  },
  {
   "cell_type": "code",
   "execution_count": 3,
   "metadata": {
    "ExecuteTime": {
     "end_time": "2020-07-02T14:03:58.643112Z",
     "start_time": "2020-07-02T14:03:58.591138Z"
    }
   },
   "outputs": [],
   "source": [
    "sg_map = gpd.read_file(PATH+'planning-boundary-area.kml') #load file"
   ]
  },
  {
   "cell_type": "code",
   "execution_count": 4,
   "metadata": {
    "ExecuteTime": {
     "end_time": "2020-07-02T14:03:58.666892Z",
     "start_time": "2020-07-02T14:03:58.645169Z"
    }
   },
   "outputs": [
    {
     "data": {
      "text/html": [
       "<div>\n",
       "<style scoped>\n",
       "    .dataframe tbody tr th:only-of-type {\n",
       "        vertical-align: middle;\n",
       "    }\n",
       "\n",
       "    .dataframe tbody tr th {\n",
       "        vertical-align: top;\n",
       "    }\n",
       "\n",
       "    .dataframe thead th {\n",
       "        text-align: right;\n",
       "    }\n",
       "</style>\n",
       "<table border=\"1\" class=\"dataframe\">\n",
       "  <thead>\n",
       "    <tr style=\"text-align: right;\">\n",
       "      <th></th>\n",
       "      <th>Name</th>\n",
       "      <th>Description</th>\n",
       "      <th>geometry</th>\n",
       "    </tr>\n",
       "  </thead>\n",
       "  <tbody>\n",
       "    <tr>\n",
       "      <th>0</th>\n",
       "      <td>kml_1</td>\n",
       "      <td>&lt;center&gt;&lt;table&gt;&lt;tr&gt;&lt;th colspan='2' align='cent...</td>\n",
       "      <td>POLYGON Z ((103.81740 1.29433 0.00000, 103.817...</td>\n",
       "    </tr>\n",
       "    <tr>\n",
       "      <th>1</th>\n",
       "      <td>kml_2</td>\n",
       "      <td>&lt;center&gt;&lt;table&gt;&lt;tr&gt;&lt;th colspan='2' align='cent...</td>\n",
       "      <td>POLYGON Z ((103.77445 1.39029 0.00000, 103.774...</td>\n",
       "    </tr>\n",
       "    <tr>\n",
       "      <th>2</th>\n",
       "      <td>kml_3</td>\n",
       "      <td>&lt;center&gt;&lt;table&gt;&lt;tr&gt;&lt;th colspan='2' align='cent...</td>\n",
       "      <td>POLYGON Z ((103.79766 1.34813 0.00000, 103.798...</td>\n",
       "    </tr>\n",
       "    <tr>\n",
       "      <th>3</th>\n",
       "      <td>kml_4</td>\n",
       "      <td>&lt;center&gt;&lt;table&gt;&lt;tr&gt;&lt;th colspan='2' align='cent...</td>\n",
       "      <td>POLYGON Z ((103.80578 1.41436 0.00000, 103.805...</td>\n",
       "    </tr>\n",
       "    <tr>\n",
       "      <th>4</th>\n",
       "      <td>kml_5</td>\n",
       "      <td>&lt;center&gt;&lt;table&gt;&lt;tr&gt;&lt;th colspan='2' align='cent...</td>\n",
       "      <td>POLYGON Z ((103.98693 1.39794 0.00000, 103.987...</td>\n",
       "    </tr>\n",
       "  </tbody>\n",
       "</table>\n",
       "</div>"
      ],
      "text/plain": [
       "    Name                                        Description  \\\n",
       "0  kml_1  <center><table><tr><th colspan='2' align='cent...   \n",
       "1  kml_2  <center><table><tr><th colspan='2' align='cent...   \n",
       "2  kml_3  <center><table><tr><th colspan='2' align='cent...   \n",
       "3  kml_4  <center><table><tr><th colspan='2' align='cent...   \n",
       "4  kml_5  <center><table><tr><th colspan='2' align='cent...   \n",
       "\n",
       "                                            geometry  \n",
       "0  POLYGON Z ((103.81740 1.29433 0.00000, 103.817...  \n",
       "1  POLYGON Z ((103.77445 1.39029 0.00000, 103.774...  \n",
       "2  POLYGON Z ((103.79766 1.34813 0.00000, 103.798...  \n",
       "3  POLYGON Z ((103.80578 1.41436 0.00000, 103.805...  \n",
       "4  POLYGON Z ((103.98693 1.39794 0.00000, 103.987...  "
      ]
     },
     "execution_count": 4,
     "metadata": {},
     "output_type": "execute_result"
    }
   ],
   "source": [
    "sg_map.head()"
   ]
  },
  {
   "cell_type": "markdown",
   "metadata": {},
   "source": [
    "The original dataset taken from URA contains three columns\n",
    "\n",
    "***Name*** is the identification key used to identify the area\\\n",
    "***Description*** contains some details about the area\\\n",
    "***geometry*** contains polygon (a shape object) which contains the coordinates of the area"
   ]
  },
  {
   "cell_type": "code",
   "execution_count": 5,
   "metadata": {
    "ExecuteTime": {
     "end_time": "2020-07-02T14:03:58.672717Z",
     "start_time": "2020-07-02T14:03:58.668658Z"
    }
   },
   "outputs": [
    {
     "data": {
      "text/plain": [
       "'<center><table><tr><th colspan=\\'2\\' align=\\'center\\'><em>Attributes</em></th></tr><tr bgcolor=\"#E3E3F3\"> <th>PLN_AREA_N</th> <td>BUKIT MERAH</td> </tr><tr bgcolor=\"\"> <th>PLN_AREA_C</th> <td>BM</td> </tr><tr bgcolor=\"#E3E3F3\"> <th>CA_IND</th> <td>N</td> </tr><tr bgcolor=\"\"> <th>REGION_N</th> <td>CENTRAL REGION</td> </tr><tr bgcolor=\"#E3E3F3\"> <th>REGION_C</th> <td>CR</td> </tr><tr bgcolor=\"\"> <th>INC_CRC</th> <td>5321BA51A092CCC2</td> </tr><tr bgcolor=\"#E3E3F3\"> <th>FMEL_UPD_D</th> <td>20191206144714</td> </tr></table></center>'"
      ]
     },
     "execution_count": 5,
     "metadata": {},
     "output_type": "execute_result"
    }
   ],
   "source": [
    "sg_map.loc[0,'Description']"
   ]
  },
  {
   "cell_type": "markdown",
   "metadata": {},
   "source": [
    "***Description*** contains the information we want: the name of the area. We will use Regular expression (regex) to extract the information we need.\n",
    "\n",
    "We will store the name of the area as ***Name*** in the map file\\\n",
    "We will drop ***Description*** since we do not want other data from it"
   ]
  },
  {
   "cell_type": "code",
   "execution_count": 6,
   "metadata": {
    "ExecuteTime": {
     "end_time": "2020-07-02T14:03:58.678411Z",
     "start_time": "2020-07-02T14:03:58.674607Z"
    }
   },
   "outputs": [],
   "source": [
    "sg_map['Name'] = sg_map['Description'].str.extract('(?:.*?<td>(.*?)</td>)')"
   ]
  },
  {
   "cell_type": "code",
   "execution_count": 7,
   "metadata": {
    "ExecuteTime": {
     "end_time": "2020-07-02T14:03:58.683750Z",
     "start_time": "2020-07-02T14:03:58.680040Z"
    }
   },
   "outputs": [],
   "source": [
    "sg_map = sg_map.drop('Description', axis=1)"
   ]
  },
  {
   "cell_type": "markdown",
   "metadata": {},
   "source": [
    "We do a simple plot here to see that indeed our map contains information about Singapore"
   ]
  },
  {
   "cell_type": "code",
   "execution_count": 8,
   "metadata": {
    "ExecuteTime": {
     "end_time": "2020-07-02T14:03:58.857889Z",
     "start_time": "2020-07-02T14:03:58.686492Z"
    }
   },
   "outputs": [
    {
     "data": {
      "image/png": "[encoded data removed]",
      "text/plain": [
       "<Figure size 432x288 with 1 Axes>"
      ]
     },
     "metadata": {
      "needs_background": "light"
     },
     "output_type": "display_data"
    }
   ],
   "source": [
    "sg_map.plot();"
   ]
  },
  {
   "cell_type": "code",
   "execution_count": 9,
   "metadata": {
    "ExecuteTime": {
     "end_time": "2020-07-02T14:03:58.878810Z",
     "start_time": "2020-07-02T14:03:58.859836Z"
    }
   },
   "outputs": [
    {
     "data": {
      "text/html": [
       "<div>\n",
       "<style scoped>\n",
       "    .dataframe tbody tr th:only-of-type {\n",
       "        vertical-align: middle;\n",
       "    }\n",
       "\n",
       "    .dataframe tbody tr th {\n",
       "        vertical-align: top;\n",
       "    }\n",
       "\n",
       "    .dataframe thead th {\n",
       "        text-align: right;\n",
       "    }\n",
       "</style>\n",
       "<table border=\"1\" class=\"dataframe\">\n",
       "  <thead>\n",
       "    <tr style=\"text-align: right;\">\n",
       "      <th></th>\n",
       "      <th>Name</th>\n",
       "      <th>geometry</th>\n",
       "    </tr>\n",
       "  </thead>\n",
       "  <tbody>\n",
       "    <tr>\n",
       "      <th>0</th>\n",
       "      <td>BUKIT MERAH</td>\n",
       "      <td>POLYGON Z ((103.81740 1.29433 0.00000, 103.817...</td>\n",
       "    </tr>\n",
       "    <tr>\n",
       "      <th>1</th>\n",
       "      <td>BUKIT PANJANG</td>\n",
       "      <td>POLYGON Z ((103.77445 1.39029 0.00000, 103.774...</td>\n",
       "    </tr>\n",
       "    <tr>\n",
       "      <th>2</th>\n",
       "      <td>BUKIT TIMAH</td>\n",
       "      <td>POLYGON Z ((103.79766 1.34813 0.00000, 103.798...</td>\n",
       "    </tr>\n",
       "    <tr>\n",
       "      <th>3</th>\n",
       "      <td>CENTRAL WATER CATCHMENT</td>\n",
       "      <td>POLYGON Z ((103.80578 1.41436 0.00000, 103.805...</td>\n",
       "    </tr>\n",
       "    <tr>\n",
       "      <th>4</th>\n",
       "      <td>CHANGI</td>\n",
       "      <td>POLYGON Z ((103.98693 1.39794 0.00000, 103.987...</td>\n",
       "    </tr>\n",
       "  </tbody>\n",
       "</table>\n",
       "</div>"
      ],
      "text/plain": [
       "                      Name                                           geometry\n",
       "0              BUKIT MERAH  POLYGON Z ((103.81740 1.29433 0.00000, 103.817...\n",
       "1            BUKIT PANJANG  POLYGON Z ((103.77445 1.39029 0.00000, 103.774...\n",
       "2              BUKIT TIMAH  POLYGON Z ((103.79766 1.34813 0.00000, 103.798...\n",
       "3  CENTRAL WATER CATCHMENT  POLYGON Z ((103.80578 1.41436 0.00000, 103.805...\n",
       "4                   CHANGI  POLYGON Z ((103.98693 1.39794 0.00000, 103.987..."
      ]
     },
     "execution_count": 9,
     "metadata": {},
     "output_type": "execute_result"
    }
   ],
   "source": [
    "sg_map.head()"
   ]
  },
  {
   "cell_type": "markdown",
   "metadata": {},
   "source": [
    "We have a nicely formatted df for our map plotting later"
   ]
  },
  {
   "cell_type": "markdown",
   "metadata": {},
   "source": [
    "## Convert to geojson format"
   ]
  },
  {
   "cell_type": "markdown",
   "metadata": {},
   "source": [
    "As I've explained earlier, plotly only supports GEOJSON at this point. Therefore, we'll convert the df into a GEOJSON format file."
   ]
  },
  {
   "cell_type": "code",
   "execution_count": 10,
   "metadata": {
    "ExecuteTime": {
     "end_time": "2020-07-02T14:03:59.060332Z",
     "start_time": "2020-07-02T14:03:59.011340Z"
    }
   },
   "outputs": [],
   "source": [
    "sg_map_json = json.loads(sg_map.to_json())"
   ]
  },
  {
   "cell_type": "markdown",
   "metadata": {},
   "source": [
    "# HDB population"
   ]
  },
  {
   "cell_type": "markdown",
   "metadata": {},
   "source": [
    "We load the Estimated Singapore Resident Population in HDB Flats data from Data.gov.sg here.\n",
    "\n",
    "```\n",
    "Data on Singapore resident population in HDB flats are estimated figures and include residents living in sold and rental flats.\n",
    "\n",
    "Singapore resident population refers to Singapore Citizens and Permanent Residents only.\n",
    "```\n",
    "\n",
    "We use this data to have a better understanding of how Singaporeans and PRs population who lived in HDB have change over the years.\n",
    "\n",
    "This file contains HDB population figure from **2008 to 2018**."
   ]
  },
  {
   "cell_type": "code",
   "execution_count": 11,
   "metadata": {
    "ExecuteTime": {
     "end_time": "2020-07-02T14:03:59.312964Z",
     "start_time": "2020-07-02T14:03:59.307861Z"
    }
   },
   "outputs": [],
   "source": [
    "HDB_pop = pd.read_csv(PATH+'estimated-resident-population-in-hdb-flats-by-town.csv')"
   ]
  },
  {
   "cell_type": "markdown",
   "metadata": {},
   "source": [
    "## Data cleaning"
   ]
  },
  {
   "cell_type": "code",
   "execution_count": 12,
   "metadata": {
    "ExecuteTime": {
     "end_time": "2020-07-02T14:03:59.459421Z",
     "start_time": "2020-07-02T14:03:59.454062Z"
    }
   },
   "outputs": [
    {
     "name": "stdout",
     "output_type": "stream",
     "text": [
      "<class 'pandas.core.frame.DataFrame'>\n",
      "RangeIndex: 295 entries, 0 to 294\n",
      "Data columns (total 3 columns):\n",
      " #   Column          Non-Null Count  Dtype \n",
      "---  ------          --------------  ----- \n",
      " 0   financial_year  295 non-null    int64 \n",
      " 1   town_or_estate  295 non-null    object\n",
      " 2   population      295 non-null    int64 \n",
      "dtypes: int64(2), object(1)\n",
      "memory usage: 7.0+ KB\n"
     ]
    }
   ],
   "source": [
    "HDB_pop.info()"
   ]
  },
  {
   "cell_type": "markdown",
   "metadata": {},
   "source": [
    "There is a suddent drop in population, clearly something is wrong with this dataset"
   ]
  },
  {
   "cell_type": "code",
   "execution_count": 13,
   "metadata": {
    "ExecuteTime": {
     "end_time": "2020-07-02T14:03:59.606099Z",
     "start_time": "2020-07-02T14:03:59.600187Z"
    }
   },
   "outputs": [
    {
     "data": {
      "text/plain": [
       "financial_year\n",
       "2008    6040200\n",
       "2009    6188200\n",
       "2010    6251800\n",
       "2011    6313800\n",
       "2012    6331800\n",
       "2013    6426000\n",
       "2014    6434800\n",
       "2015    6469600\n",
       "2016    6499800\n",
       "2017    3247500\n",
       "2018    3238400\n",
       "Name: population, dtype: int64"
      ]
     },
     "execution_count": 13,
     "metadata": {},
     "output_type": "execute_result"
    }
   ],
   "source": [
    "HDB_pop.groupby('financial_year')['population'].sum()"
   ]
  },
  {
   "cell_type": "markdown",
   "metadata": {},
   "source": [
    "After some data exploration, we realised that from 2008 to 2016 there is a subtotal row in ***town_or_estate named*** TOTAL -.-"
   ]
  },
  {
   "cell_type": "code",
   "execution_count": 14,
   "metadata": {
    "ExecuteTime": {
     "end_time": "2020-07-02T14:03:59.749392Z",
     "start_time": "2020-07-02T14:03:59.744729Z"
    }
   },
   "outputs": [
    {
     "data": {
      "text/plain": [
       "array(['Ang Mo Kio', 'Bedok', 'Bishan', 'Bukit Batok', 'Bukit Merah',\n",
       "       'Bukit Panjang', 'Bukit Timah', 'Choa Chu Kang', 'Central Area',\n",
       "       'Clementi', 'Geylang', 'Hougang', 'Jurong East', 'Jurong West',\n",
       "       'Kallang/Whampoa', 'Marine Parade', 'Pasir Ris', 'Punggol',\n",
       "       'Queenstown', 'Sembawang', 'Sengkang', 'Serangoon', 'Tampines',\n",
       "       'Toa Payoh', 'Woodlands', 'Yishun', 'Total'], dtype=object)"
      ]
     },
     "execution_count": 14,
     "metadata": {},
     "output_type": "execute_result"
    }
   ],
   "source": [
    "HDB_pop['town_or_estate'].unique()"
   ]
  },
  {
   "cell_type": "code",
   "execution_count": 15,
   "metadata": {
    "ExecuteTime": {
     "end_time": "2020-07-02T14:03:59.759208Z",
     "start_time": "2020-07-02T14:03:59.751564Z"
    }
   },
   "outputs": [
    {
     "data": {
      "text/html": [
       "<div>\n",
       "<style scoped>\n",
       "    .dataframe tbody tr th:only-of-type {\n",
       "        vertical-align: middle;\n",
       "    }\n",
       "\n",
       "    .dataframe tbody tr th {\n",
       "        vertical-align: top;\n",
       "    }\n",
       "\n",
       "    .dataframe thead th {\n",
       "        text-align: right;\n",
       "    }\n",
       "</style>\n",
       "<table border=\"1\" class=\"dataframe\">\n",
       "  <thead>\n",
       "    <tr style=\"text-align: right;\">\n",
       "      <th></th>\n",
       "      <th>financial_year</th>\n",
       "      <th>town_or_estate</th>\n",
       "      <th>population</th>\n",
       "    </tr>\n",
       "  </thead>\n",
       "  <tbody>\n",
       "    <tr>\n",
       "      <th>26</th>\n",
       "      <td>2008</td>\n",
       "      <td>Total</td>\n",
       "      <td>3020100</td>\n",
       "    </tr>\n",
       "    <tr>\n",
       "      <th>53</th>\n",
       "      <td>2009</td>\n",
       "      <td>Total</td>\n",
       "      <td>3094100</td>\n",
       "    </tr>\n",
       "    <tr>\n",
       "      <th>80</th>\n",
       "      <td>2010</td>\n",
       "      <td>Total</td>\n",
       "      <td>3125900</td>\n",
       "    </tr>\n",
       "    <tr>\n",
       "      <th>107</th>\n",
       "      <td>2011</td>\n",
       "      <td>Total</td>\n",
       "      <td>3156900</td>\n",
       "    </tr>\n",
       "    <tr>\n",
       "      <th>134</th>\n",
       "      <td>2012</td>\n",
       "      <td>Total</td>\n",
       "      <td>3165900</td>\n",
       "    </tr>\n",
       "    <tr>\n",
       "      <th>161</th>\n",
       "      <td>2013</td>\n",
       "      <td>Total</td>\n",
       "      <td>3213000</td>\n",
       "    </tr>\n",
       "    <tr>\n",
       "      <th>188</th>\n",
       "      <td>2014</td>\n",
       "      <td>Total</td>\n",
       "      <td>3217400</td>\n",
       "    </tr>\n",
       "    <tr>\n",
       "      <th>215</th>\n",
       "      <td>2015</td>\n",
       "      <td>Total</td>\n",
       "      <td>3234800</td>\n",
       "    </tr>\n",
       "    <tr>\n",
       "      <th>242</th>\n",
       "      <td>2016</td>\n",
       "      <td>Total</td>\n",
       "      <td>3249900</td>\n",
       "    </tr>\n",
       "  </tbody>\n",
       "</table>\n",
       "</div>"
      ],
      "text/plain": [
       "     financial_year town_or_estate  population\n",
       "26             2008          Total     3020100\n",
       "53             2009          Total     3094100\n",
       "80             2010          Total     3125900\n",
       "107            2011          Total     3156900\n",
       "134            2012          Total     3165900\n",
       "161            2013          Total     3213000\n",
       "188            2014          Total     3217400\n",
       "215            2015          Total     3234800\n",
       "242            2016          Total     3249900"
      ]
     },
     "execution_count": 15,
     "metadata": {},
     "output_type": "execute_result"
    }
   ],
   "source": [
    "HDB_pop[HDB_pop['town_or_estate'] == 'Total'].sort_values(by='financial_year')"
   ]
  },
  {
   "cell_type": "markdown",
   "metadata": {},
   "source": [
    "Let's remove the row with TOTAL"
   ]
  },
  {
   "cell_type": "code",
   "execution_count": 16,
   "metadata": {
    "ExecuteTime": {
     "end_time": "2020-07-02T14:03:59.926985Z",
     "start_time": "2020-07-02T14:03:59.923898Z"
    }
   },
   "outputs": [],
   "source": [
    "HDB_pop = HDB_pop[HDB_pop['town_or_estate'] != 'Total']"
   ]
  },
  {
   "cell_type": "markdown",
   "metadata": {},
   "source": [
    "Since our objective is to plot these data points, we need to make sure the area name is the same for both df and map df"
   ]
  },
  {
   "cell_type": "code",
   "execution_count": 17,
   "metadata": {
    "ExecuteTime": {
     "end_time": "2020-07-02T14:04:00.073373Z",
     "start_time": "2020-07-02T14:04:00.069538Z"
    }
   },
   "outputs": [],
   "source": [
    "HDB_pop = HDB_pop.assign(town_or_estate = HDB_pop['town_or_estate'].str.upper()) #capitalise all the names"
   ]
  },
  {
   "cell_type": "markdown",
   "metadata": {},
   "source": [
    "We see that CENTRAL AREA and KALLANG/WHAMPOA are names that doesn't appear in the map"
   ]
  },
  {
   "cell_type": "code",
   "execution_count": 18,
   "metadata": {
    "ExecuteTime": {
     "end_time": "2020-07-02T14:04:00.233643Z",
     "start_time": "2020-07-02T14:04:00.228617Z"
    }
   },
   "outputs": [
    {
     "data": {
      "text/plain": [
       "array(['CENTRAL AREA', 'KALLANG/WHAMPOA'], dtype=object)"
      ]
     },
     "execution_count": 18,
     "metadata": {},
     "output_type": "execute_result"
    }
   ],
   "source": [
    "HDB_pop['town_or_estate'][~HDB_pop['town_or_estate'].isin(sg_map['Name'])].unique()"
   ]
  },
  {
   "cell_type": "markdown",
   "metadata": {},
   "source": [
    "Let's rename the two area into something that does appear in the map"
   ]
  },
  {
   "cell_type": "code",
   "execution_count": 19,
   "metadata": {
    "ExecuteTime": {
     "end_time": "2020-07-02T14:04:00.379993Z",
     "start_time": "2020-07-02T14:04:00.376255Z"
    }
   },
   "outputs": [],
   "source": [
    "HDB_pop = HDB_pop.assign(town_or_estate = np.where(HDB_pop['town_or_estate']=='KALLANG/WHAMPOA', \n",
    "                                                            'KALLANG', HDB_pop['town_or_estate']))"
   ]
  },
  {
   "cell_type": "code",
   "execution_count": 20,
   "metadata": {
    "ExecuteTime": {
     "end_time": "2020-07-02T14:04:00.385729Z",
     "start_time": "2020-07-02T14:04:00.382364Z"
    }
   },
   "outputs": [],
   "source": [
    "HDB_pop = HDB_pop.assign(town_or_estate = np.where(HDB_pop['town_or_estate']=='CENTRAL AREA', \n",
    "                                                            'DOWNTOWN CORE', HDB_pop['town_or_estate']))"
   ]
  },
  {
   "cell_type": "code",
   "execution_count": 21,
   "metadata": {
    "ExecuteTime": {
     "end_time": "2020-07-02T14:04:00.393017Z",
     "start_time": "2020-07-02T14:04:00.388505Z"
    }
   },
   "outputs": [
    {
     "data": {
      "text/plain": [
       "array([], dtype=object)"
      ]
     },
     "execution_count": 21,
     "metadata": {},
     "output_type": "execute_result"
    }
   ],
   "source": [
    "HDB_pop['town_or_estate'][~HDB_pop['town_or_estate'].isin(sg_map['Name'])].unique()"
   ]
  },
  {
   "cell_type": "markdown",
   "metadata": {},
   "source": [
    "Now we are sure that every single town and estate will be reflected in our map"
   ]
  },
  {
   "cell_type": "code",
   "execution_count": 83,
   "metadata": {
    "ExecuteTime": {
     "end_time": "2020-07-02T14:55:46.575869Z",
     "start_time": "2020-07-02T14:55:46.569026Z"
    }
   },
   "outputs": [
    {
     "data": {
      "text/plain": [
       "array(['CENTRAL WATER CATCHMENT', 'CHANGI', 'LIM CHU KANG', 'MANDAI',\n",
       "       'NORTH-EASTERN ISLANDS', 'NOVENA', 'PIONEER', 'BOON LAY',\n",
       "       'SELETAR', 'SIMPANG', 'SOUTHERN ISLANDS', 'SUNGEI KADUT',\n",
       "       'TANGLIN', 'TENGAH', 'TUAS', 'MARINA EAST', 'MARINA SOUTH',\n",
       "       'MUSEUM', 'NEWTON', 'ORCHARD', 'OUTRAM', 'RIVER VALLEY', 'ROCHOR',\n",
       "       'SINGAPORE RIVER', 'STRAITS VIEW', 'CHANGI BAY', 'PAYA LEBAR',\n",
       "       'WESTERN ISLANDS', 'WESTERN WATER CATCHMENT'], dtype=object)"
      ]
     },
     "execution_count": 83,
     "metadata": {},
     "output_type": "execute_result"
    }
   ],
   "source": [
    "sg_map['Name'][~sg_map['Name'].isin(HDB_pop['town_or_estate'])].unique()"
   ]
  },
  {
   "cell_type": "markdown",
   "metadata": {},
   "source": [
    "We note that not every area in the map has HDB population record.\\\n",
    "Some of these areas are expected, for example: Singapore River, Central water catchment, where there is no residents there.\\\n",
    "But some of the areas are unexpected, for example: Boon Lay, Pioneer. This might have to do with the difference in how data classify each area."
   ]
  },
  {
   "cell_type": "markdown",
   "metadata": {},
   "source": [
    "## Visualise data"
   ]
  },
  {
   "cell_type": "markdown",
   "metadata": {},
   "source": [
    "We find some interesting observations:\n",
    "\n",
    "Growth rate for Singapore residents in HDB decreases from 2009 to 2018.\\\n",
    "There is a negative growth rate from 2016 to 2018.\\\n",
    "There is a sudden spike in growth rate in 2013."
   ]
  },
  {
   "cell_type": "code",
   "execution_count": 22,
   "metadata": {
    "ExecuteTime": {
     "end_time": "2020-07-02T14:04:01.157418Z",
     "start_time": "2020-07-02T14:04:00.842803Z"
    }
   },
   "outputs": [
    {
     "name": "stdout",
     "output_type": "stream",
     "text": [
      "percentage change of HDB population, compared to previous year\n"
     ]
    },
    {
     "data": {
      "text/plain": [
       "financial_year\n",
       "2008         NaN\n",
       "2009    2.450250\n",
       "2010    1.027763\n",
       "2011    0.991714\n",
       "2012    0.285090\n",
       "2013    1.487729\n",
       "2014    0.136944\n",
       "2015    0.540809\n",
       "2016    0.466799\n",
       "2017   -0.073848\n",
       "2018   -0.280216\n",
       "Name: population, dtype: float64"
      ]
     },
     "execution_count": 22,
     "metadata": {},
     "output_type": "execute_result"
    },
    {
     "data": {
      "image/png": "[encoded data removed]",
      "text/plain": [
       "<Figure size 432x288 with 1 Axes>"
      ]
     },
     "metadata": {
      "needs_background": "light"
     },
     "output_type": "display_data"
    }
   ],
   "source": [
    "HDB_pop.groupby('financial_year')['population'].sum().plot(x='financial_year', y='population',\n",
    "                                                          title='population growth')\n",
    "\n",
    "print('percentage change of HDB population, compared to previous year')\n",
    "HDB_pop.groupby('financial_year')['population'].sum().pct_change()*100"
   ]
  },
  {
   "cell_type": "markdown",
   "metadata": {},
   "source": [
    "## Map Plotting"
   ]
  },
  {
   "cell_type": "code",
   "execution_count": 39,
   "metadata": {
    "ExecuteTime": {
     "end_time": "2020-07-02T14:28:36.971968Z",
     "start_time": "2020-07-02T14:28:32.279309Z"
    }
   },
   "outputs": [],
   "source": [
    "HDB_fig = px.choropleth_mapbox(HDB_pop, geojson=sg_map_json,\n",
    "                               locations='town_or_estate', featureidkey='properties.Name', \n",
    "                               color='population', color_continuous_scale='Tealgrn',\n",
    "                               animation_frame='financial_year',\n",
    "                               mapbox_style='carto-positron',\n",
    "                               center = dict(lon = 103.8198,lat = 1.3521), opacity=0.5,\n",
    "                               zoom=10, title='HDB Singapore resident population')\n",
    "HDB_fig.write_html('output/HDB_fig.html') #export figure"
   ]
  },
  {
   "cell_type": "code",
   "execution_count": 24,
   "metadata": {
    "ExecuteTime": {
     "end_time": "2020-07-02T14:04:05.893295Z",
     "start_time": "2020-07-02T14:04:05.888806Z"
    }
   },
   "outputs": [],
   "source": [
    "#\n",
    "# uncomment this to visualise map\n",
    "#\n",
    "\n",
    "# HDB_fig.update_geos(fitbounds=\"locations\", visible=False)\n",
    "# HDB_fig.update_layout(margin={\"r\":0,\"t\":0,\"l\":0,\"b\":0})\n",
    "# HDB_fig.show()"
   ]
  },
  {
   "cell_type": "markdown",
   "metadata": {},
   "source": [
    "# General Singapore population"
   ]
  },
  {
   "cell_type": "markdown",
   "metadata": {},
   "source": [
    "We load the data for Singapore Residents by Planning Area/Subzone, Age Group, Sex and Type of Dwelling from Singstat.\n",
    "\n",
    "Here are some notes about the data\n",
    "\n",
    "```\n",
    "1) For June 2011 to 2019, Planning Areas refer to areas demarcated in the Urban Redevelopment Authority's Master Plan 2014.\n",
    "2) Data from 2003 onwards exclude residents who have been away from Singapore for a continuous period of 12 months or longer as at the reference period.\n",
    "3) The figures have been rounded to the nearest 10. \n",
    "4) The data may not add up due to rounding.\n",
    "```\n",
    "\n",
    "We use this data to understand the general trend of Singapore resident's population growth."
   ]
  },
  {
   "cell_type": "code",
   "execution_count": 25,
   "metadata": {
    "ExecuteTime": {
     "end_time": "2020-07-02T14:04:06.477224Z",
     "start_time": "2020-07-02T14:04:05.897498Z"
    }
   },
   "outputs": [],
   "source": [
    "sg_pop = pd.read_csv(PATH+'/respopagesextod2011to2019.csv')"
   ]
  },
  {
   "cell_type": "markdown",
   "metadata": {},
   "source": [
    "## Data cleaning"
   ]
  },
  {
   "cell_type": "code",
   "execution_count": 26,
   "metadata": {
    "ExecuteTime": {
     "end_time": "2020-07-02T14:04:06.615471Z",
     "start_time": "2020-07-02T14:04:06.478989Z"
    }
   },
   "outputs": [
    {
     "name": "stdout",
     "output_type": "stream",
     "text": [
      "<class 'pandas.core.frame.DataFrame'>\n",
      "RangeIndex: 883728 entries, 0 to 883727\n",
      "Data columns (total 7 columns):\n",
      " #   Column  Non-Null Count   Dtype \n",
      "---  ------  --------------   ----- \n",
      " 0   PA      883728 non-null  object\n",
      " 1   SZ      883728 non-null  object\n",
      " 2   AG      883728 non-null  object\n",
      " 3   Sex     883728 non-null  object\n",
      " 4   TOD     883728 non-null  object\n",
      " 5   Pop     883728 non-null  int64 \n",
      " 6   Time    883728 non-null  int64 \n",
      "dtypes: int64(2), object(5)\n",
      "memory usage: 47.2+ MB\n"
     ]
    }
   ],
   "source": [
    "sg_pop.info()"
   ]
  },
  {
   "cell_type": "code",
   "execution_count": 27,
   "metadata": {
    "ExecuteTime": {
     "end_time": "2020-07-02T14:04:06.849844Z",
     "start_time": "2020-07-02T14:04:06.617423Z"
    }
   },
   "outputs": [],
   "source": [
    "sg_pop['PA'] = sg_pop['PA'].str.upper() #capitalise area name"
   ]
  },
  {
   "cell_type": "code",
   "execution_count": 28,
   "metadata": {
    "ExecuteTime": {
     "end_time": "2020-07-02T14:04:06.903518Z",
     "start_time": "2020-07-02T14:04:06.851980Z"
    }
   },
   "outputs": [
    {
     "data": {
      "text/plain": [
       "array([], dtype=object)"
      ]
     },
     "execution_count": 28,
     "metadata": {},
     "output_type": "execute_result"
    }
   ],
   "source": [
    "sg_pop['PA'][~sg_pop['PA'].isin(sg_map['Name'])].unique()"
   ]
  },
  {
   "cell_type": "markdown",
   "metadata": {},
   "source": [
    "We have all the area name in our maps"
   ]
  },
  {
   "cell_type": "code",
   "execution_count": 86,
   "metadata": {
    "ExecuteTime": {
     "end_time": "2020-07-02T14:58:17.653964Z",
     "start_time": "2020-07-02T14:58:17.614843Z"
    }
   },
   "outputs": [
    {
     "data": {
      "text/plain": [
       "array([], dtype=object)"
      ]
     },
     "execution_count": 86,
     "metadata": {},
     "output_type": "execute_result"
    }
   ],
   "source": [
    "sg_map['Name'][~sg_map['Name'].isin(sg_pop['PA'])].unique()"
   ]
  },
  {
   "cell_type": "markdown",
   "metadata": {},
   "source": [
    "All the areas in map is in our general population df"
   ]
  },
  {
   "cell_type": "code",
   "execution_count": 91,
   "metadata": {
    "ExecuteTime": {
     "end_time": "2020-07-02T14:59:38.725778Z",
     "start_time": "2020-07-02T14:59:38.673716Z"
    }
   },
   "outputs": [
    {
     "data": {
      "text/plain": [
       "0"
      ]
     },
     "execution_count": 91,
     "metadata": {},
     "output_type": "execute_result"
    }
   ],
   "source": [
    "sg_pop.loc[sg_pop['PA'] == 'BOON LAY','Pop'].sum()"
   ]
  },
  {
   "cell_type": "code",
   "execution_count": 29,
   "metadata": {
    "ExecuteTime": {
     "end_time": "2020-07-02T14:04:06.915681Z",
     "start_time": "2020-07-02T14:04:06.906733Z"
    }
   },
   "outputs": [
    {
     "data": {
      "text/html": [
       "<div>\n",
       "<style scoped>\n",
       "    .dataframe tbody tr th:only-of-type {\n",
       "        vertical-align: middle;\n",
       "    }\n",
       "\n",
       "    .dataframe tbody tr th {\n",
       "        vertical-align: top;\n",
       "    }\n",
       "\n",
       "    .dataframe thead th {\n",
       "        text-align: right;\n",
       "    }\n",
       "</style>\n",
       "<table border=\"1\" class=\"dataframe\">\n",
       "  <thead>\n",
       "    <tr style=\"text-align: right;\">\n",
       "      <th></th>\n",
       "      <th>PA</th>\n",
       "      <th>SZ</th>\n",
       "      <th>AG</th>\n",
       "      <th>Sex</th>\n",
       "      <th>TOD</th>\n",
       "      <th>Pop</th>\n",
       "      <th>Time</th>\n",
       "    </tr>\n",
       "  </thead>\n",
       "  <tbody>\n",
       "    <tr>\n",
       "      <th>0</th>\n",
       "      <td>ANG MO KIO</td>\n",
       "      <td>Ang Mo Kio Town Centre</td>\n",
       "      <td>0_to_4</td>\n",
       "      <td>Males</td>\n",
       "      <td>HDB 1- and 2-Room Flats</td>\n",
       "      <td>0</td>\n",
       "      <td>2011</td>\n",
       "    </tr>\n",
       "    <tr>\n",
       "      <th>1</th>\n",
       "      <td>ANG MO KIO</td>\n",
       "      <td>Ang Mo Kio Town Centre</td>\n",
       "      <td>0_to_4</td>\n",
       "      <td>Males</td>\n",
       "      <td>HDB 3-Room Flats</td>\n",
       "      <td>10</td>\n",
       "      <td>2011</td>\n",
       "    </tr>\n",
       "    <tr>\n",
       "      <th>2</th>\n",
       "      <td>ANG MO KIO</td>\n",
       "      <td>Ang Mo Kio Town Centre</td>\n",
       "      <td>0_to_4</td>\n",
       "      <td>Males</td>\n",
       "      <td>HDB 4-Room Flats</td>\n",
       "      <td>30</td>\n",
       "      <td>2011</td>\n",
       "    </tr>\n",
       "    <tr>\n",
       "      <th>3</th>\n",
       "      <td>ANG MO KIO</td>\n",
       "      <td>Ang Mo Kio Town Centre</td>\n",
       "      <td>0_to_4</td>\n",
       "      <td>Males</td>\n",
       "      <td>HDB 5-Room and Executive Flats</td>\n",
       "      <td>50</td>\n",
       "      <td>2011</td>\n",
       "    </tr>\n",
       "    <tr>\n",
       "      <th>4</th>\n",
       "      <td>ANG MO KIO</td>\n",
       "      <td>Ang Mo Kio Town Centre</td>\n",
       "      <td>0_to_4</td>\n",
       "      <td>Males</td>\n",
       "      <td>HUDC Flats (excluding those privatised)</td>\n",
       "      <td>0</td>\n",
       "      <td>2011</td>\n",
       "    </tr>\n",
       "  </tbody>\n",
       "</table>\n",
       "</div>"
      ],
      "text/plain": [
       "           PA                      SZ      AG    Sex  \\\n",
       "0  ANG MO KIO  Ang Mo Kio Town Centre  0_to_4  Males   \n",
       "1  ANG MO KIO  Ang Mo Kio Town Centre  0_to_4  Males   \n",
       "2  ANG MO KIO  Ang Mo Kio Town Centre  0_to_4  Males   \n",
       "3  ANG MO KIO  Ang Mo Kio Town Centre  0_to_4  Males   \n",
       "4  ANG MO KIO  Ang Mo Kio Town Centre  0_to_4  Males   \n",
       "\n",
       "                                       TOD  Pop  Time  \n",
       "0                  HDB 1- and 2-Room Flats    0  2011  \n",
       "1                         HDB 3-Room Flats   10  2011  \n",
       "2                         HDB 4-Room Flats   30  2011  \n",
       "3           HDB 5-Room and Executive Flats   50  2011  \n",
       "4  HUDC Flats (excluding those privatised)    0  2011  "
      ]
     },
     "execution_count": 29,
     "metadata": {},
     "output_type": "execute_result"
    }
   ],
   "source": [
    "sg_pop.head()"
   ]
  },
  {
   "cell_type": "markdown",
   "metadata": {},
   "source": [
    "## Visualise data"
   ]
  },
  {
   "cell_type": "code",
   "execution_count": 30,
   "metadata": {
    "ExecuteTime": {
     "end_time": "2020-07-02T14:04:07.075909Z",
     "start_time": "2020-07-02T14:04:06.917803Z"
    }
   },
   "outputs": [
    {
     "name": "stdout",
     "output_type": "stream",
     "text": [
      "percentage change of Singapore resident population, compared to previous year\n"
     ]
    },
    {
     "data": {
      "text/plain": [
       "Time\n",
       "2011         NaN\n",
       "2012    0.789900\n",
       "2013    0.671266\n",
       "2014    0.673024\n",
       "2015    0.859200\n",
       "2016    0.801228\n",
       "2017    0.834958\n",
       "2018    0.701950\n",
       "2019    0.807526\n",
       "Name: Pop, dtype: float64"
      ]
     },
     "execution_count": 30,
     "metadata": {},
     "output_type": "execute_result"
    },
    {
     "data": {
      "image/png": "[encoded data removed]",
      "text/plain": [
       "<Figure size 432x288 with 1 Axes>"
      ]
     },
     "metadata": {
      "needs_background": "light"
     },
     "output_type": "display_data"
    }
   ],
   "source": [
    "sg_pop.groupby('Time')['Pop'].sum().plot()\n",
    "\n",
    "print('percentage change of Singapore resident population, compared to previous year')\n",
    "sg_pop.groupby('Time')['Pop'].sum().pct_change()*100"
   ]
  },
  {
   "cell_type": "markdown",
   "metadata": {},
   "source": [
    "## Map Plotting"
   ]
  },
  {
   "cell_type": "code",
   "execution_count": 38,
   "metadata": {
    "ExecuteTime": {
     "end_time": "2020-07-02T14:28:32.206628Z",
     "start_time": "2020-07-02T14:28:28.382952Z"
    }
   },
   "outputs": [],
   "source": [
    "pop_fig = px.choropleth_mapbox(sg_pop[['Time','PA','Pop']].groupby(['PA','Time']).sum().reset_index(), \n",
    "                               geojson=sg_map_json, locations='PA', featureidkey='properties.Name',\n",
    "                               color='Pop', color_continuous_scale='Tealgrn',\n",
    "                               animation_frame='Time', mapbox_style='carto-positron',\n",
    "                               center = dict(lon = 103.8198,lat = 1.3521), opacity=0.5,\n",
    "                               zoom=10, title='General Singapore resident population')\n",
    "pop_fig.write_html('output/pop_fig.html') #export figure"
   ]
  },
  {
   "cell_type": "code",
   "execution_count": 32,
   "metadata": {
    "ExecuteTime": {
     "end_time": "2020-07-02T14:04:10.656598Z",
     "start_time": "2020-07-02T14:04:10.654151Z"
    }
   },
   "outputs": [],
   "source": [
    "#\n",
    "# uncomment this to visualise map\n",
    "#\n",
    "\n",
    "# pop_fig.update_geos(fitbounds=\"locations\", visible=False)\n",
    "# pop_fig.update_layout(margin={\"r\":0,\"t\":0,\"l\":0,\"b\":0})\n",
    "# pop_fig.show()"
   ]
  },
  {
   "cell_type": "code",
   "execution_count": 92,
   "metadata": {
    "ExecuteTime": {
     "end_time": "2020-07-02T15:04:10.712536Z",
     "start_time": "2020-07-02T15:04:10.667068Z"
    }
   },
   "outputs": [],
   "source": [
    "px.choropleth_mapbox?"
   ]
  },
  {
   "cell_type": "code",
   "execution_count": null,
   "metadata": {},
   "outputs": [],
   "source": []
  }
 ],
 "metadata": {
  "kernelspec": {
   "display_name": "Python 3",
   "language": "python",
   "name": "python3"
  },
  "language_info": {
   "codemirror_mode": {
    "name": "ipython",
    "version": 3
   },
   "file_extension": ".py",
   "mimetype": "text/x-python",
   "name": "python",
   "nbconvert_exporter": "python",
   "pygments_lexer": "ipython3",
   "version": "3.7.7"
  },
  "latex_envs": {
   "LaTeX_envs_menu_present": true,
   "autoclose": false,
   "autocomplete": true,
   "bibliofile": "biblio.bib",
   "cite_by": "apalike",
   "current_citInitial": 1,
   "eqLabelWithNumbers": true,
   "eqNumInitial": 1,
   "hotkeys": {
    "equation": "Ctrl-E",
    "itemize": "Ctrl-I"
   },
   "labels_anchors": false,
   "latex_user_defs": false,
   "report_style_numbering": false,
   "user_envs_cfg": false
  },
  "toc": {
   "base_numbering": 1,
   "nav_menu": {},
   "number_sections": true,
   "sideBar": true,
   "skip_h1_title": false,
   "title_cell": "Table of Contents",
   "title_sidebar": "Contents",
   "toc_cell": true,
   "toc_position": {
    "height": "calc(100% - 180px)",
    "left": "10px",
    "top": "150px",
    "width": "384px"
   },
   "toc_section_display": true,
   "toc_window_display": true
  }
 },
 "nbformat": 4,
 "nbformat_minor": 4
}
